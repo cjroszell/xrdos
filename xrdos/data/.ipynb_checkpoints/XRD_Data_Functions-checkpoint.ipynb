{
 "cells": [
  {
   "cell_type": "code",
   "execution_count": 1,
   "metadata": {},
   "outputs": [],
   "source": [
    "import numpy as np\n",
    "import pandas as pd\n",
    "from matminer.data_retrieval.retrieve_MP import MPDataRetrieval\n",
    "mpdr = MPDataRetrieval(api_key='8xGzGD4F5EyCOlNzKTZ')"
   ]
  },
  {
   "cell_type": "code",
   "execution_count": 2,
   "metadata": {},
   "outputs": [],
   "source": [
    "def extract_xrd_data(xrd_data):\n",
    "    \"\"\"\n",
    "    Extracts the relevant XRD data from the dictionary obtained from MPD\n",
    "    \n",
    "    Parameters:\n",
    "    ----------\n",
    "    xrd_data : Dictionary\n",
    "      The dictionary of data obtained from MPD \n",
    "    \n",
    "    Returns:\n",
    "    ----------\n",
    "    clean_df: Pandas dataframe\n",
    "        The top 10 XRD peaks and their corresponding two theta values for the material\n",
    "    \"\"\"\n",
    "    \n",
    "    # Checking if data has 10 or more peaks\n",
    "    # Will return nothing and skip the material if less than 10\n",
    "    if len(xrd_data['Cu']['pattern']) >= 10:\n",
    "        \n",
    "        # Extracting out the amplitude and two theta values from the dictionary contained inside the received data\n",
    "        # then turning it into a pandas dataframe.\n",
    "        dirty_df = pd.DataFrame(xrd_data['Cu']['pattern'], columns=xrd_data['Cu']['meta']) # Converts data into dataframe\n",
    "        dirty_df.drop(['hkl','d_spacing'], axis=1, inplace=True) # Disposes of the hkl and d-spacing data\n",
    "\n",
    "        # Sorting the peaks into the top 10 with the highest peaks\n",
    "        dirty_df.sort_values('amplitude', ascending=False, inplace=True) # Sorts peaks from highest to smallest\n",
    "        dirty_df.reset_index(drop=True, inplace=True) # Reseting index\n",
    "        clean_df = dirty_df[:10] # Dropping all peaks below the top ten \n",
    "        \n",
    "        return clean_df\n",
    "    \n",
    "    else:\n",
    "        return None"
   ]
  },
  {
   "cell_type": "code",
   "execution_count": 3,
   "metadata": {},
   "outputs": [],
   "source": [
    "# Function to reformat the data after cleaning\n",
    "# Takes the dataframe and turns it into a dictionary wwhere all data points have a unique key\n",
    "def reformat_xrd_data(xrd_data):\n",
    "    \"\"\"\n",
    "    Reformats the cleaned data obtained from the extract_xrd_data function into a dictionary\n",
    "    \n",
    "    Parameters:\n",
    "    ----------\n",
    "    xrd_data : Dictionary\n",
    "      The dictionary of data obtained from MPD \n",
    "    \n",
    "    Returns:\n",
    "    ----------\n",
    "    clean_df: Pandas dataframe\n",
    "        The top 10 XRD peaks and their corresponding two theta values for the material\n",
    "    \"\"\"\n",
    "    \n",
    "    # Checks if data was returned from the extracted data function\n",
    "    # Skips material if nothing is returned\n",
    "    if isinstance(extract_xrd_data(xrd_data), pd.DataFrame):\n",
    "        # Cleaning data and creating empty dictionary\n",
    "        clean_df = extract_xrd_data(xrd_data)\n",
    "        mat_dict = {}\n",
    "\n",
    "        # Loop to assign each data point to a key and stores it within the dictionary\n",
    "        for i in range(0,20):\n",
    "            if i < 10:\n",
    "                amp_key = ('amplitude_' + str(i))\n",
    "                mat_dict[amp_key] = clean_df['amplitude'][i]\n",
    "\n",
    "            else:\n",
    "                theta_key = ('two_theta_' + str(i-10))\n",
    "                mat_dict[theta_key] = clean_df['two_theta'][i-10]\n",
    "\n",
    "        return mat_dict\n",
    "    \n",
    "    else:\n",
    "        return None"
   ]
  },
  {
   "cell_type": "code",
   "execution_count": 4,
   "metadata": {},
   "outputs": [],
   "source": [
    "# Function \n",
    "def produce_data(df):\n",
    "    \"\"\"\n",
    "    Reformats the cleaned data obtained from the extract_xrd_data function into a dictionary\n",
    "    \n",
    "    Parameters:\n",
    "    ----------\n",
    "    xrd_data : Dictionary\n",
    "      The dictionary of data obtained from MPD \n",
    "    \n",
    "    Returns:\n",
    "    ----------\n",
    "    clean_df: Pandas dataframe\n",
    "        The top 10 XRD peaks and their corresponding two theta values for the material\n",
    "    \"\"\"\n",
    "    \n",
    "    full_dict = {}\n",
    "    \n",
    "    for i in range(len(df)):\n",
    "        \n",
    "        if reformat_xrd_data(df['xrd'].iloc[i]) != None:\n",
    "            ID = df.index[i]\n",
    "            mat_dict = reformat_data(df['xrd'].iloc[i])\n",
    "            full_dict[ID] = mat_dict\n",
    "            \n",
    "        else:\n",
    "            continue\n",
    "    \n",
    "    full_df = pd.DataFrame.from_dict(full_dict, orient='index')\n",
    "    \n",
    "    return full_df"
   ]
  },
  {
   "cell_type": "code",
   "execution_count": 5,
   "metadata": {},
   "outputs": [
    {
     "ename": "MPRestError",
     "evalue": "REST query returned with error status code 403. Content: b'{\"valid_response\": false, \"error\": \"API_KEY is not supplied.\", \"version\": {\"db\": \"2018.11\", \"pymatgen\": \"2019.2.28\", \"rest\": \"2.0\"}, \"created_at\": \"2019-03-10T23:23:40.946797\"}'",
     "output_type": "error",
     "traceback": [
      "\u001b[0;31m---------------------------------------------------------------------------\u001b[0m",
      "\u001b[0;31mMPRestError\u001b[0m                               Traceback (most recent call last)",
      "\u001b[0;32m~/miniconda3/lib/python3.7/site-packages/pymatgen/ext/matproj.py\u001b[0m in \u001b[0;36m_make_request\u001b[0;34m(self, sub_url, payload, method, mp_decode)\u001b[0m\n\u001b[1;32m    153\u001b[0m             raise MPRestError(\"REST query returned with error status code {}\"\n\u001b[0;32m--> 154\u001b[0;31m                               .format(response.status_code))\n\u001b[0m\u001b[1;32m    155\u001b[0m \u001b[0;34m\u001b[0m\u001b[0m\n",
      "\u001b[0;31mMPRestError\u001b[0m: REST query returned with error status code 403",
      "\nDuring handling of the above exception, another exception occurred:\n",
      "\u001b[0;31mMPRestError\u001b[0m                               Traceback (most recent call last)",
      "\u001b[0;32m<ipython-input-5-8c8ef123bde8>\u001b[0m in \u001b[0;36m<module>\u001b[0;34m\u001b[0m\n\u001b[0;32m----> 1\u001b[0;31m \u001b[0mdf\u001b[0m \u001b[0;34m=\u001b[0m \u001b[0mmpdr\u001b[0m\u001b[0;34m.\u001b[0m\u001b[0mget_dataframe\u001b[0m\u001b[0;34m(\u001b[0m\u001b[0mcriteria\u001b[0m\u001b[0;34m=\u001b[0m\u001b[0;34m'Si'\u001b[0m\u001b[0;34m,\u001b[0m \u001b[0mproperties\u001b[0m\u001b[0;34m=\u001b[0m\u001b[0;34m[\u001b[0m\u001b[0;34m'xrd'\u001b[0m\u001b[0;34m]\u001b[0m\u001b[0;34m)\u001b[0m\u001b[0;34m\u001b[0m\u001b[0;34m\u001b[0m\u001b[0m\n\u001b[0m\u001b[1;32m      2\u001b[0m \u001b[0mproduce_data\u001b[0m\u001b[0;34m(\u001b[0m\u001b[0mdf\u001b[0m\u001b[0;34m)\u001b[0m\u001b[0;34m.\u001b[0m\u001b[0mhead\u001b[0m\u001b[0;34m(\u001b[0m\u001b[0;34m)\u001b[0m\u001b[0;34m\u001b[0m\u001b[0;34m\u001b[0m\u001b[0m\n",
      "\u001b[0;32m~/miniconda3/lib/python3.7/site-packages/matminer/data_retrieval/retrieve_MP.py\u001b[0m in \u001b[0;36mget_dataframe\u001b[0;34m(self, criteria, properties, index_mpid, **kwargs)\u001b[0m\n\u001b[1;32m     54\u001b[0m         \"\"\"\n\u001b[1;32m     55\u001b[0m         data = self.get_data(criteria=criteria, properties=properties,\n\u001b[0;32m---> 56\u001b[0;31m                              index_mpid=index_mpid, **kwargs)\n\u001b[0m\u001b[1;32m     57\u001b[0m         \u001b[0mdf\u001b[0m \u001b[0;34m=\u001b[0m \u001b[0mpd\u001b[0m\u001b[0;34m.\u001b[0m\u001b[0mDataFrame\u001b[0m\u001b[0;34m(\u001b[0m\u001b[0mdata\u001b[0m\u001b[0;34m,\u001b[0m \u001b[0mcolumns\u001b[0m\u001b[0;34m=\u001b[0m\u001b[0mproperties\u001b[0m\u001b[0;34m)\u001b[0m\u001b[0;34m\u001b[0m\u001b[0;34m\u001b[0m\u001b[0m\n\u001b[1;32m     58\u001b[0m         for prop in [\"dos\", \"phonon_dos\",\n",
      "\u001b[0;32m~/miniconda3/lib/python3.7/site-packages/matminer/data_retrieval/retrieve_MP.py\u001b[0m in \u001b[0;36mget_data\u001b[0;34m(self, criteria, properties, mp_decode, index_mpid)\u001b[0m\n\u001b[1;32m     97\u001b[0m         \u001b[0;32mif\u001b[0m \u001b[0mindex_mpid\u001b[0m \u001b[0;32mand\u001b[0m \u001b[0;34m\"material_id\"\u001b[0m \u001b[0;32mnot\u001b[0m \u001b[0;32min\u001b[0m \u001b[0mproperties\u001b[0m\u001b[0;34m:\u001b[0m\u001b[0;34m\u001b[0m\u001b[0;34m\u001b[0m\u001b[0m\n\u001b[1;32m     98\u001b[0m             \u001b[0mproperties\u001b[0m\u001b[0;34m.\u001b[0m\u001b[0mappend\u001b[0m\u001b[0;34m(\u001b[0m\u001b[0;34m\"material_id\"\u001b[0m\u001b[0;34m)\u001b[0m\u001b[0;34m\u001b[0m\u001b[0;34m\u001b[0m\u001b[0m\n\u001b[0;32m---> 99\u001b[0;31m         \u001b[0mdata\u001b[0m \u001b[0;34m=\u001b[0m \u001b[0mself\u001b[0m\u001b[0;34m.\u001b[0m\u001b[0mmprester\u001b[0m\u001b[0;34m.\u001b[0m\u001b[0mquery\u001b[0m\u001b[0;34m(\u001b[0m\u001b[0mcriteria\u001b[0m\u001b[0;34m,\u001b[0m \u001b[0mproperties\u001b[0m\u001b[0;34m,\u001b[0m \u001b[0mmp_decode\u001b[0m\u001b[0;34m)\u001b[0m\u001b[0;34m\u001b[0m\u001b[0;34m\u001b[0m\u001b[0m\n\u001b[0m\u001b[1;32m    100\u001b[0m         \u001b[0;32mreturn\u001b[0m \u001b[0mdata\u001b[0m\u001b[0;34m\u001b[0m\u001b[0;34m\u001b[0m\u001b[0m\n\u001b[1;32m    101\u001b[0m \u001b[0;34m\u001b[0m\u001b[0m\n",
      "\u001b[0;32m~/miniconda3/lib/python3.7/site-packages/pymatgen/ext/matproj.py\u001b[0m in \u001b[0;36mquery\u001b[0;34m(self, criteria, properties, chunk_size, max_tries_per_chunk, mp_decode)\u001b[0m\n\u001b[1;32m    756\u001b[0m         \u001b[0;32mif\u001b[0m \u001b[0mchunk_size\u001b[0m \u001b[0;34m==\u001b[0m \u001b[0;36m0\u001b[0m\u001b[0;34m:\u001b[0m\u001b[0;34m\u001b[0m\u001b[0;34m\u001b[0m\u001b[0m\n\u001b[1;32m    757\u001b[0m             return self._make_request(\n\u001b[0;32m--> 758\u001b[0;31m                 \"/query\", payload=payload, method=\"POST\", mp_decode=mp_decode)\n\u001b[0m\u001b[1;32m    759\u001b[0m \u001b[0;34m\u001b[0m\u001b[0m\n\u001b[1;32m    760\u001b[0m         \u001b[0mcount_payload\u001b[0m \u001b[0;34m=\u001b[0m \u001b[0mpayload\u001b[0m\u001b[0;34m.\u001b[0m\u001b[0mcopy\u001b[0m\u001b[0;34m(\u001b[0m\u001b[0;34m)\u001b[0m\u001b[0;34m\u001b[0m\u001b[0;34m\u001b[0m\u001b[0m\n",
      "\u001b[0;32m~/miniconda3/lib/python3.7/site-packages/pymatgen/ext/matproj.py\u001b[0m in \u001b[0;36m_make_request\u001b[0;34m(self, sub_url, payload, method, mp_decode)\u001b[0m\n\u001b[1;32m    157\u001b[0m             \u001b[0mmsg\u001b[0m \u001b[0;34m=\u001b[0m \u001b[0;34m\"{}. Content: {}\"\u001b[0m\u001b[0;34m.\u001b[0m\u001b[0mformat\u001b[0m\u001b[0;34m(\u001b[0m\u001b[0mstr\u001b[0m\u001b[0;34m(\u001b[0m\u001b[0mex\u001b[0m\u001b[0;34m)\u001b[0m\u001b[0;34m,\u001b[0m \u001b[0mresponse\u001b[0m\u001b[0;34m.\u001b[0m\u001b[0mcontent\u001b[0m\u001b[0;34m)\u001b[0m\u001b[0;31m \u001b[0m\u001b[0;31m\\\u001b[0m\u001b[0;34m\u001b[0m\u001b[0;34m\u001b[0m\u001b[0m\n\u001b[1;32m    158\u001b[0m                 \u001b[0;32mif\u001b[0m \u001b[0mhasattr\u001b[0m\u001b[0;34m(\u001b[0m\u001b[0mresponse\u001b[0m\u001b[0;34m,\u001b[0m \u001b[0;34m\"content\"\u001b[0m\u001b[0;34m)\u001b[0m \u001b[0;32melse\u001b[0m \u001b[0mstr\u001b[0m\u001b[0;34m(\u001b[0m\u001b[0mex\u001b[0m\u001b[0;34m)\u001b[0m\u001b[0;34m\u001b[0m\u001b[0;34m\u001b[0m\u001b[0m\n\u001b[0;32m--> 159\u001b[0;31m             \u001b[0;32mraise\u001b[0m \u001b[0mMPRestError\u001b[0m\u001b[0;34m(\u001b[0m\u001b[0mmsg\u001b[0m\u001b[0;34m)\u001b[0m\u001b[0;34m\u001b[0m\u001b[0;34m\u001b[0m\u001b[0m\n\u001b[0m\u001b[1;32m    160\u001b[0m \u001b[0;34m\u001b[0m\u001b[0m\n\u001b[1;32m    161\u001b[0m     \u001b[0;32mdef\u001b[0m \u001b[0mget_materials_id_from_task_id\u001b[0m\u001b[0;34m(\u001b[0m\u001b[0mself\u001b[0m\u001b[0;34m,\u001b[0m \u001b[0mtask_id\u001b[0m\u001b[0;34m)\u001b[0m\u001b[0;34m:\u001b[0m\u001b[0;34m\u001b[0m\u001b[0;34m\u001b[0m\u001b[0m\n",
      "\u001b[0;31mMPRestError\u001b[0m: REST query returned with error status code 403. Content: b'{\"valid_response\": false, \"error\": \"API_KEY is not supplied.\", \"version\": {\"db\": \"2018.11\", \"pymatgen\": \"2019.2.28\", \"rest\": \"2.0\"}, \"created_at\": \"2019-03-10T23:23:40.946797\"}'"
     ]
    }
   ],
   "source": [
    "df = mpdr.get_dataframe(criteria='Si', properties=['xrd'])\n",
    "produce_data(df).head()"
   ]
  },
  {
   "cell_type": "code",
   "execution_count": null,
   "metadata": {},
   "outputs": [],
   "source": []
  }
 ],
 "metadata": {
  "kernelspec": {
   "display_name": "Python 3",
   "language": "python",
   "name": "python3"
  },
  "language_info": {
   "codemirror_mode": {
    "name": "ipython",
    "version": 3
   },
   "file_extension": ".py",
   "mimetype": "text/x-python",
   "name": "python",
   "nbconvert_exporter": "python",
   "pygments_lexer": "ipython3",
   "version": "3.7.1"
  }
 },
 "nbformat": 4,
 "nbformat_minor": 2
}
