{
 "cells": [
  {
   "cell_type": "markdown",
   "metadata": {},
   "source": [
    "Part 1"
   ]
  },
  {
   "cell_type": "markdown",
   "metadata": {},
   "source": [
    "def function to get data out of MPD (inputs: # of compounds, ): \n",
    "    blah blah\n",
    "                                     \n",
    "    return (df) # That dataframe with 3 columns Intensity, Angle, Work Function"
   ]
  },
  {
   "cell_type": "markdown",
   "metadata": {},
   "source": [
    "def function to transform data for ML Algorithm (df):\n",
    "\n",
    "    blah blah \n",
    "\n",
    "    return ( n data points by 21 features) ( [ 10 intensities] [10 2 thetas] [1 Work Function])"
   ]
  },
  {
   "cell_type": "markdown",
   "metadata": {},
   "source": [
    "Part 2"
   ]
  },
  {
   "cell_type": "markdown",
   "metadata": {},
   "source": [
    "Split dataset up into training, validation, and test set\n",
    "\n",
    "def function_to_split_dataset_into_train_val_test(df):\n",
    "\n",
    "    blah blah\n",
    "    \n",
    "    return df_train, df_validation, df_train ( [ 10 intensities] [10 2 thetas] [1 Work Function])"
   ]
  },
  {
   "cell_type": "markdown",
   "metadata": {},
   "source": [
    "def function_to_scale_training_data(df_train)\n",
    "\n",
    "    blah blah scale\n",
    "    return df_train_scaled; same for df_validation"
   ]
  },
  {
   "cell_type": "markdown",
   "metadata": {},
   "source": [
    "def function_to_train_model(df_train, df_validation, model_type):\n",
    "\n",
    "    blah blah\n",
    "    train the (model_type) algorithm on X_train,\n",
    "    test the (model_type) on X_validation\n",
    "    measure the performance\n",
    "    \n",
    "    return fitted_model_type, accuracy_metric (e.g., RMSE)"
   ]
  },
  {
   "cell_type": "markdown",
   "metadata": {},
   "source": [
    "Part 3"
   ]
  },
  {
   "cell_type": "markdown",
   "metadata": {},
   "source": [
    "def predict_on_new_data(new_data, fitted_model)\n",
    "\n",
    "    blah blah\n",
    "    y_pred = fitted_model.predict(new_data)\n",
    "    return y_pred, accuracy_metric"
   ]
  }
 ],
 "metadata": {
  "kernelspec": {
   "display_name": "Python 3",
   "language": "python",
   "name": "python3"
  },
  "language_info": {
   "codemirror_mode": {
    "name": "ipython",
    "version": 3
   },
   "file_extension": ".py",
   "mimetype": "text/x-python",
   "name": "python",
   "nbconvert_exporter": "python",
   "pygments_lexer": "ipython3",
   "version": "3.7.1"
  }
 },
 "nbformat": 4,
 "nbformat_minor": 2
}
