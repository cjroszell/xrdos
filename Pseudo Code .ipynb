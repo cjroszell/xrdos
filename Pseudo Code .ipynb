{
 "cells": [
  {
   "cell_type": "markdown",
   "metadata": {},
   "source": [
    "Part 1"
   ]
  },
  {
   "cell_type": "markdown",
   "metadata": {},
   "source": [
    "def function to get data out of MPD (inputs: # of compounds, ): \n",
    "    blah blah\n",
    "                                     \n",
    "    return (df) # That dataframe with 3 columns Intensity, Angle, Work Function"
   ]
  },
  {
   "cell_type": "markdown",
   "metadata": {},
   "source": [
    "def function to transform data for ML Algorithm (df):\n",
    "\n",
    "    blah blah \n",
    "\n",
    "    return ( n data points by 21 features) ( [ 10 intensities] [10 2 thetas] [1 Work Function])"
   ]
  },
  {
   "cell_type": "markdown",
   "metadata": {},
   "source": [
    "Part 2"
   ]
  },
  {
   "cell_type": "markdown",
   "metadata": {},
   "source": [
    "Split dataset up into training, validation, and test set\n",
    "\n",
    "def function_to_split_dataset_into_train_val_test(df):\n",
    "\n",
    "    blah blah\n",
    "    \n",
    "    return df_train, df_validation, df_train ( [ 10 intensities] [10 2 thetas] [1 Work Function])\n",
    "    \n",
    "   "
   ]
  },
  {
   "cell_type": "code",
   "execution_count": 1,
   "metadata": {},
   "outputs": [],
   "source": [
    "import sklearn\n",
    "import pandas as pd\n",
    "import sklearn\n",
    "import numpy as np\n",
    "import matplotlib.pyplot as plt \n",
    "from sklearn.linear_model import LinearRegression\n",
    "from sklearn.linear_model import LogisticRegression\n",
    "from scipy import stats\n",
    "%matplotlib inline"
   ]
  },
  {
   "cell_type": "code",
   "execution_count": null,
   "metadata": {},
   "outputs": [],
   "source": [
    "def train_test_split(df): \n",
    "    train, test_and_val = sklearn.model_selection.train_test_split(df, test_size=0.30)\n",
    "    test, val = sklearn.model_selection.train_test_split(test_and_val, test_size=0.15)\n",
    "\n",
    "    df_train = [x_train, y_train]\n",
    "    df_val = [x_val, y_val]\n",
    "    df_test = [x_test, y_test]\n",
    "        \n",
    "    return df_train, df_val, df_test\n",
    "        "
   ]
  },
  {
   "cell_type": "markdown",
   "metadata": {},
   "source": [
    "def function_to_scale_training_data(df_train)\n",
    "\n",
    "    blah blah scale\n",
    "    return df_train_scaled; same for df_validation"
   ]
  },
  {
   "cell_type": "code",
   "execution_count": 38,
   "metadata": {},
   "outputs": [
    {
     "data": {
      "text/html": [
       "<div>\n",
       "<style scoped>\n",
       "    .dataframe tbody tr th:only-of-type {\n",
       "        vertical-align: middle;\n",
       "    }\n",
       "\n",
       "    .dataframe tbody tr th {\n",
       "        vertical-align: top;\n",
       "    }\n",
       "\n",
       "    .dataframe thead th {\n",
       "        text-align: right;\n",
       "    }\n",
       "</style>\n",
       "<table border=\"1\" class=\"dataframe\">\n",
       "  <thead>\n",
       "    <tr style=\"text-align: right;\">\n",
       "      <th></th>\n",
       "      <th>0</th>\n",
       "      <th>1</th>\n",
       "    </tr>\n",
       "  </thead>\n",
       "  <tbody>\n",
       "    <tr>\n",
       "      <th>0</th>\n",
       "      <td>-1.229207</td>\n",
       "      <td>-1.328387</td>\n",
       "    </tr>\n",
       "    <tr>\n",
       "      <th>1</th>\n",
       "      <td>-0.914429</td>\n",
       "      <td>-0.951004</td>\n",
       "    </tr>\n",
       "    <tr>\n",
       "      <th>2</th>\n",
       "      <td>0.667329</td>\n",
       "      <td>1.313292</td>\n",
       "    </tr>\n",
       "    <tr>\n",
       "      <th>3</th>\n",
       "      <td>-0.009443</td>\n",
       "      <td>0.218882</td>\n",
       "    </tr>\n",
       "    <tr>\n",
       "      <th>4</th>\n",
       "      <td>1.485750</td>\n",
       "      <td>0.747218</td>\n",
       "    </tr>\n",
       "  </tbody>\n",
       "</table>\n",
       "</div>"
      ],
      "text/plain": [
       "          0         1\n",
       "0 -1.229207 -1.328387\n",
       "1 -0.914429 -0.951004\n",
       "2  0.667329  1.313292\n",
       "3 -0.009443  0.218882\n",
       "4  1.485750  0.747218"
      ]
     },
     "execution_count": 38,
     "metadata": {},
     "output_type": "execute_result"
    }
   ],
   "source": [
    "from sklearn import preprocessing \n",
    "import pandas as pd\n",
    "import numpy as np\n",
    "\n",
    "def scale(df_train):\n",
    "    '''This function takes a pd.DataFrame, creates a sklearn.StandardScaler, scales the DataFrame,\n",
    "       and returns the scaled data in a pd.DataFrame as well as the sklearn.StandardScaler object\n",
    "       for transforming data back to unscaled form post machine learning.'''\n",
    "    #Creating scaler object\n",
    "    scaler = preprocessing.StandardScaler()\n",
    "    #Scaling df_train\n",
    "    scaled_data = pd.DataFrame(scaler.fit_transform(df_train))\n",
    "    \n",
    "    return scaled_data, scaler\n"
   ]
  },
  {
   "cell_type": "markdown",
   "metadata": {},
   "source": [
    "def function_to_train_model(df_train, df_validation, model_type):\n",
    "\n",
    "    blah blah\n",
    "    train the (model_type) algorithm on X_train,\n",
    "    test the (model_type) on X_validation\n",
    "    measure the performance\n",
    "    \n",
    "    return fitted_model_type, accuracy_metric (e.g., RMSE)"
   ]
  },
  {
   "cell_type": "markdown",
   "metadata": {},
   "source": [
    "Part 3"
   ]
  },
  {
   "cell_type": "markdown",
   "metadata": {},
   "source": [
    "def predict_on_new_data(new_data, fitted_model)\n",
    "\n",
    "    blah blah\n",
    "    y_pred = fitted_model.predict(new_data)\n",
    "    return y_pred, accuracy_metric"
   ]
  },
  {
   "cell_type": "markdown",
   "metadata": {},
   "source": [
    "# Software Design\n",
    "\n",
    "The purpose of this software program is to predict the Density of State (DOS) and other electronic properties of new materials based on an X-Ray Diffraction (XRD) datafiles, using a machine learning algorithm. Below we describe the use cases within the program and the component to accomodate that use case.\n",
    "\n",
    "## 1.\tUpload XRD data into the program\n",
    "* a. Mine data from the Materials Project Database\n",
    "     - i.\tInputs: JSON files from MPD\n",
    "     - ii.\tOutputs: Pandas dataframe\n",
    "* b. Cleaning the data\n",
    "     - i.\tInputs: Pandas dataframe with all the messy data\n",
    "     - ii.\tOutputs: Pandas dataframe with only the needed data in a format that is readable to the ML program\n",
    "\n",
    "## 2.\tUse the data to train the algorithm\n",
    "- a.\tSeparating training dataset from test dataset\n",
    "    - i.\tInput: Cleaned Pandas dataframe\n",
    "    - ii. Output: Two separate sets for training and testing\n",
    "- b.\tRunning the training set through a machine learning algorithm\n",
    "    - i.\tInput: Training set with both XRD and DOS data\n",
    "    - ii.\tOutput: Estimated DOS\n",
    "- c.\tRunning the test set through the same algorithm\n",
    "    - i.\tInput: Testing set with both XRD and DOS data\n",
    "    - ii.\tOutput: Estimated DOS\n",
    "- d.\tVerifying the statistical reliability of the predicted results\n",
    "    - i.\tInput: Test-Estimated DOS and actual DOS\n",
    "    - ii.\tOutput: Statistical comparisons\n",
    "\n",
    "## 3.\tUse the data to predict the DOS of a new XRD file\n",
    "- a.\tRunning the unknown set through the same algorithm\n",
    "    - i.\tInput: XRD JSON file\n",
    "    - ii.\tOutput: DOS JSON file\n",
    "- b.\tVisualize the predicted data\n",
    "    - i.\tInput: DOS JSON file\n",
    "    - ii.\tOutput: A graph\n",
    "- c.\tPresent data is a save-able format\n",
    "    - i.\tInput: DOS JSON file\n",
    "    - ii.\tOutput: DOS csv file\n"
   ]
  },
  {
   "cell_type": "code",
   "execution_count": null,
   "metadata": {},
   "outputs": [],
   "source": []
  },
  {
   "cell_type": "code",
   "execution_count": null,
   "metadata": {},
   "outputs": [],
   "source": []
  },
  {
   "cell_type": "code",
   "execution_count": null,
   "metadata": {},
   "outputs": [],
   "source": []
  },
  {
   "cell_type": "code",
   "execution_count": null,
   "metadata": {},
   "outputs": [],
   "source": []
  },
  {
   "cell_type": "code",
   "execution_count": null,
   "metadata": {},
   "outputs": [],
   "source": []
  },
  {
   "cell_type": "code",
   "execution_count": null,
   "metadata": {},
   "outputs": [],
   "source": []
  },
  {
   "cell_type": "code",
   "execution_count": null,
   "metadata": {},
   "outputs": [],
   "source": []
  },
  {
   "cell_type": "code",
   "execution_count": null,
   "metadata": {},
   "outputs": [],
   "source": []
  }
 ],
 "metadata": {
  "kernelspec": {
   "display_name": "Python 3",
   "language": "python",
   "name": "python3"
  },
  "language_info": {
   "codemirror_mode": {
    "name": "ipython",
    "version": 3
   },
   "file_extension": ".py",
   "mimetype": "text/x-python",
   "name": "python",
   "nbconvert_exporter": "python",
   "pygments_lexer": "ipython3",
   "version": "3.7.2"
  }
 },
 "nbformat": 4,
 "nbformat_minor": 2
}
